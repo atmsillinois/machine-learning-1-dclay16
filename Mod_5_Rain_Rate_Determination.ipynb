{
  "cells": [
    {
      "cell_type": "code",
      "execution_count": 10,
      "metadata": {
        "id": "iE6ubevSEtPf"
      },
      "outputs": [],
      "source": [
        "# Import necessary libraries and modules\n",
        "import pandas as pd\n",
        "import numpy as np\n",
        "from sklearn.model_selection import GridSearchCV\n",
        "from sklearn.pipeline import make_pipeline\n",
        "from sklearn.model_selection import train_test_split\n",
        "from sklearn.preprocessing import PolynomialFeatures\n",
        "from sklearn.ensemble import RandomForestRegressor\n",
        "from sklearn.linear_model import LinearRegression\n",
        "from sklearn.metrics import mean_squared_error, r2_score\n"
      ]
    },
    {
      "cell_type": "code",
      "execution_count": 3,
      "metadata": {
        "id": "4hqXGimDEtPi"
      },
      "outputs": [],
      "source": [
        "# Load the dataset\n",
        "file_path = '/content/radar_parameters.csv'\n",
        "data = pd.read_csv(file_path)"
      ]
    },
    {
      "cell_type": "code",
      "execution_count": 4,
      "metadata": {
        "id": "0grN6X2qEtPj"
      },
      "outputs": [],
      "source": [
        "# Prepare the dataset; rename/remove columns\n",
        "data = data.rename(columns={\n",
        "    'Zh (dBZ)': 'Zh', 'Zdr (dB)': 'Zdr', 'Ldr (dB)': 'Ldr',\n",
        "    'Kdp (deg km-1)': 'Kdp', 'Ah (dBZ/km)': 'Ah', 'Adr (dB/km)': 'Adp',\n",
        "    'R (mm/hr)': 'R'\n",
        "}).drop(columns=['Unnamed: 0'], errors='ignore')\n"
      ]
    },
    {
      "cell_type": "code",
      "execution_count": 5,
      "metadata": {
        "colab": {
          "base_uri": "https://localhost:8080/",
          "height": 206
        },
        "id": "Me74iEsTEtPk",
        "outputId": "123ca212-7395-4523-b6b5-c5167c1dde13"
      },
      "outputs": [
        {
          "output_type": "execute_result",
          "data": {
            "text/plain": [
              "          Zh       Zdr        Ldr       Kdp        Ah       Adp         R\n",
              "0  23.144878  0.418637 -41.757733  0.005395  0.000290  0.000012  2.393520\n",
              "1  22.737156  0.322850 -43.772069  0.005194  0.000360  0.000012  3.502699\n",
              "2  26.869826  0.330948 -43.577399  0.013385  0.000903  0.000030  8.627561\n",
              "3  28.540561  0.399480 -42.139731  0.018872  0.001036  0.000043  8.424447\n",
              "4  30.500127  0.543758 -39.763087  0.027438  0.001157  0.000064  8.189291"
            ],
            "text/html": [
              "\n",
              "  <div id=\"df-7854531b-1c76-4c6d-8d90-39e99a9e3b76\" class=\"colab-df-container\">\n",
              "    <div>\n",
              "<style scoped>\n",
              "    .dataframe tbody tr th:only-of-type {\n",
              "        vertical-align: middle;\n",
              "    }\n",
              "\n",
              "    .dataframe tbody tr th {\n",
              "        vertical-align: top;\n",
              "    }\n",
              "\n",
              "    .dataframe thead th {\n",
              "        text-align: right;\n",
              "    }\n",
              "</style>\n",
              "<table border=\"1\" class=\"dataframe\">\n",
              "  <thead>\n",
              "    <tr style=\"text-align: right;\">\n",
              "      <th></th>\n",
              "      <th>Zh</th>\n",
              "      <th>Zdr</th>\n",
              "      <th>Ldr</th>\n",
              "      <th>Kdp</th>\n",
              "      <th>Ah</th>\n",
              "      <th>Adp</th>\n",
              "      <th>R</th>\n",
              "    </tr>\n",
              "  </thead>\n",
              "  <tbody>\n",
              "    <tr>\n",
              "      <th>0</th>\n",
              "      <td>23.144878</td>\n",
              "      <td>0.418637</td>\n",
              "      <td>-41.757733</td>\n",
              "      <td>0.005395</td>\n",
              "      <td>0.000290</td>\n",
              "      <td>0.000012</td>\n",
              "      <td>2.393520</td>\n",
              "    </tr>\n",
              "    <tr>\n",
              "      <th>1</th>\n",
              "      <td>22.737156</td>\n",
              "      <td>0.322850</td>\n",
              "      <td>-43.772069</td>\n",
              "      <td>0.005194</td>\n",
              "      <td>0.000360</td>\n",
              "      <td>0.000012</td>\n",
              "      <td>3.502699</td>\n",
              "    </tr>\n",
              "    <tr>\n",
              "      <th>2</th>\n",
              "      <td>26.869826</td>\n",
              "      <td>0.330948</td>\n",
              "      <td>-43.577399</td>\n",
              "      <td>0.013385</td>\n",
              "      <td>0.000903</td>\n",
              "      <td>0.000030</td>\n",
              "      <td>8.627561</td>\n",
              "    </tr>\n",
              "    <tr>\n",
              "      <th>3</th>\n",
              "      <td>28.540561</td>\n",
              "      <td>0.399480</td>\n",
              "      <td>-42.139731</td>\n",
              "      <td>0.018872</td>\n",
              "      <td>0.001036</td>\n",
              "      <td>0.000043</td>\n",
              "      <td>8.424447</td>\n",
              "    </tr>\n",
              "    <tr>\n",
              "      <th>4</th>\n",
              "      <td>30.500127</td>\n",
              "      <td>0.543758</td>\n",
              "      <td>-39.763087</td>\n",
              "      <td>0.027438</td>\n",
              "      <td>0.001157</td>\n",
              "      <td>0.000064</td>\n",
              "      <td>8.189291</td>\n",
              "    </tr>\n",
              "  </tbody>\n",
              "</table>\n",
              "</div>\n",
              "    <div class=\"colab-df-buttons\">\n",
              "\n",
              "  <div class=\"colab-df-container\">\n",
              "    <button class=\"colab-df-convert\" onclick=\"convertToInteractive('df-7854531b-1c76-4c6d-8d90-39e99a9e3b76')\"\n",
              "            title=\"Convert this dataframe to an interactive table.\"\n",
              "            style=\"display:none;\">\n",
              "\n",
              "  <svg xmlns=\"http://www.w3.org/2000/svg\" height=\"24px\" viewBox=\"0 -960 960 960\">\n",
              "    <path d=\"M120-120v-720h720v720H120Zm60-500h600v-160H180v160Zm220 220h160v-160H400v160Zm0 220h160v-160H400v160ZM180-400h160v-160H180v160Zm440 0h160v-160H620v160ZM180-180h160v-160H180v160Zm440 0h160v-160H620v160Z\"/>\n",
              "  </svg>\n",
              "    </button>\n",
              "\n",
              "  <style>\n",
              "    .colab-df-container {\n",
              "      display:flex;\n",
              "      gap: 12px;\n",
              "    }\n",
              "\n",
              "    .colab-df-convert {\n",
              "      background-color: #E8F0FE;\n",
              "      border: none;\n",
              "      border-radius: 50%;\n",
              "      cursor: pointer;\n",
              "      display: none;\n",
              "      fill: #1967D2;\n",
              "      height: 32px;\n",
              "      padding: 0 0 0 0;\n",
              "      width: 32px;\n",
              "    }\n",
              "\n",
              "    .colab-df-convert:hover {\n",
              "      background-color: #E2EBFA;\n",
              "      box-shadow: 0px 1px 2px rgba(60, 64, 67, 0.3), 0px 1px 3px 1px rgba(60, 64, 67, 0.15);\n",
              "      fill: #174EA6;\n",
              "    }\n",
              "\n",
              "    .colab-df-buttons div {\n",
              "      margin-bottom: 4px;\n",
              "    }\n",
              "\n",
              "    [theme=dark] .colab-df-convert {\n",
              "      background-color: #3B4455;\n",
              "      fill: #D2E3FC;\n",
              "    }\n",
              "\n",
              "    [theme=dark] .colab-df-convert:hover {\n",
              "      background-color: #434B5C;\n",
              "      box-shadow: 0px 1px 3px 1px rgba(0, 0, 0, 0.15);\n",
              "      filter: drop-shadow(0px 1px 2px rgba(0, 0, 0, 0.3));\n",
              "      fill: #FFFFFF;\n",
              "    }\n",
              "  </style>\n",
              "\n",
              "    <script>\n",
              "      const buttonEl =\n",
              "        document.querySelector('#df-7854531b-1c76-4c6d-8d90-39e99a9e3b76 button.colab-df-convert');\n",
              "      buttonEl.style.display =\n",
              "        google.colab.kernel.accessAllowed ? 'block' : 'none';\n",
              "\n",
              "      async function convertToInteractive(key) {\n",
              "        const element = document.querySelector('#df-7854531b-1c76-4c6d-8d90-39e99a9e3b76');\n",
              "        const dataTable =\n",
              "          await google.colab.kernel.invokeFunction('convertToInteractive',\n",
              "                                                    [key], {});\n",
              "        if (!dataTable) return;\n",
              "\n",
              "        const docLinkHtml = 'Like what you see? Visit the ' +\n",
              "          '<a target=\"_blank\" href=https://colab.research.google.com/notebooks/data_table.ipynb>data table notebook</a>'\n",
              "          + ' to learn more about interactive tables.';\n",
              "        element.innerHTML = '';\n",
              "        dataTable['output_type'] = 'display_data';\n",
              "        await google.colab.output.renderOutput(dataTable, element);\n",
              "        const docLink = document.createElement('div');\n",
              "        docLink.innerHTML = docLinkHtml;\n",
              "        element.appendChild(docLink);\n",
              "      }\n",
              "    </script>\n",
              "  </div>\n",
              "\n",
              "\n",
              "<div id=\"df-f5370249-1a1d-4dd4-ab8a-b1f1d83c12df\">\n",
              "  <button class=\"colab-df-quickchart\" onclick=\"quickchart('df-f5370249-1a1d-4dd4-ab8a-b1f1d83c12df')\"\n",
              "            title=\"Suggest charts\"\n",
              "            style=\"display:none;\">\n",
              "\n",
              "<svg xmlns=\"http://www.w3.org/2000/svg\" height=\"24px\"viewBox=\"0 0 24 24\"\n",
              "     width=\"24px\">\n",
              "    <g>\n",
              "        <path d=\"M19 3H5c-1.1 0-2 .9-2 2v14c0 1.1.9 2 2 2h14c1.1 0 2-.9 2-2V5c0-1.1-.9-2-2-2zM9 17H7v-7h2v7zm4 0h-2V7h2v10zm4 0h-2v-4h2v4z\"/>\n",
              "    </g>\n",
              "</svg>\n",
              "  </button>\n",
              "\n",
              "<style>\n",
              "  .colab-df-quickchart {\n",
              "      --bg-color: #E8F0FE;\n",
              "      --fill-color: #1967D2;\n",
              "      --hover-bg-color: #E2EBFA;\n",
              "      --hover-fill-color: #174EA6;\n",
              "      --disabled-fill-color: #AAA;\n",
              "      --disabled-bg-color: #DDD;\n",
              "  }\n",
              "\n",
              "  [theme=dark] .colab-df-quickchart {\n",
              "      --bg-color: #3B4455;\n",
              "      --fill-color: #D2E3FC;\n",
              "      --hover-bg-color: #434B5C;\n",
              "      --hover-fill-color: #FFFFFF;\n",
              "      --disabled-bg-color: #3B4455;\n",
              "      --disabled-fill-color: #666;\n",
              "  }\n",
              "\n",
              "  .colab-df-quickchart {\n",
              "    background-color: var(--bg-color);\n",
              "    border: none;\n",
              "    border-radius: 50%;\n",
              "    cursor: pointer;\n",
              "    display: none;\n",
              "    fill: var(--fill-color);\n",
              "    height: 32px;\n",
              "    padding: 0;\n",
              "    width: 32px;\n",
              "  }\n",
              "\n",
              "  .colab-df-quickchart:hover {\n",
              "    background-color: var(--hover-bg-color);\n",
              "    box-shadow: 0 1px 2px rgba(60, 64, 67, 0.3), 0 1px 3px 1px rgba(60, 64, 67, 0.15);\n",
              "    fill: var(--button-hover-fill-color);\n",
              "  }\n",
              "\n",
              "  .colab-df-quickchart-complete:disabled,\n",
              "  .colab-df-quickchart-complete:disabled:hover {\n",
              "    background-color: var(--disabled-bg-color);\n",
              "    fill: var(--disabled-fill-color);\n",
              "    box-shadow: none;\n",
              "  }\n",
              "\n",
              "  .colab-df-spinner {\n",
              "    border: 2px solid var(--fill-color);\n",
              "    border-color: transparent;\n",
              "    border-bottom-color: var(--fill-color);\n",
              "    animation:\n",
              "      spin 1s steps(1) infinite;\n",
              "  }\n",
              "\n",
              "  @keyframes spin {\n",
              "    0% {\n",
              "      border-color: transparent;\n",
              "      border-bottom-color: var(--fill-color);\n",
              "      border-left-color: var(--fill-color);\n",
              "    }\n",
              "    20% {\n",
              "      border-color: transparent;\n",
              "      border-left-color: var(--fill-color);\n",
              "      border-top-color: var(--fill-color);\n",
              "    }\n",
              "    30% {\n",
              "      border-color: transparent;\n",
              "      border-left-color: var(--fill-color);\n",
              "      border-top-color: var(--fill-color);\n",
              "      border-right-color: var(--fill-color);\n",
              "    }\n",
              "    40% {\n",
              "      border-color: transparent;\n",
              "      border-right-color: var(--fill-color);\n",
              "      border-top-color: var(--fill-color);\n",
              "    }\n",
              "    60% {\n",
              "      border-color: transparent;\n",
              "      border-right-color: var(--fill-color);\n",
              "    }\n",
              "    80% {\n",
              "      border-color: transparent;\n",
              "      border-right-color: var(--fill-color);\n",
              "      border-bottom-color: var(--fill-color);\n",
              "    }\n",
              "    90% {\n",
              "      border-color: transparent;\n",
              "      border-bottom-color: var(--fill-color);\n",
              "    }\n",
              "  }\n",
              "</style>\n",
              "\n",
              "  <script>\n",
              "    async function quickchart(key) {\n",
              "      const quickchartButtonEl =\n",
              "        document.querySelector('#' + key + ' button');\n",
              "      quickchartButtonEl.disabled = true;  // To prevent multiple clicks.\n",
              "      quickchartButtonEl.classList.add('colab-df-spinner');\n",
              "      try {\n",
              "        const charts = await google.colab.kernel.invokeFunction(\n",
              "            'suggestCharts', [key], {});\n",
              "      } catch (error) {\n",
              "        console.error('Error during call to suggestCharts:', error);\n",
              "      }\n",
              "      quickchartButtonEl.classList.remove('colab-df-spinner');\n",
              "      quickchartButtonEl.classList.add('colab-df-quickchart-complete');\n",
              "    }\n",
              "    (() => {\n",
              "      let quickchartButtonEl =\n",
              "        document.querySelector('#df-f5370249-1a1d-4dd4-ab8a-b1f1d83c12df button');\n",
              "      quickchartButtonEl.style.display =\n",
              "        google.colab.kernel.accessAllowed ? 'block' : 'none';\n",
              "    })();\n",
              "  </script>\n",
              "</div>\n",
              "\n",
              "    </div>\n",
              "  </div>\n"
            ],
            "application/vnd.google.colaboratory.intrinsic+json": {
              "type": "dataframe",
              "variable_name": "data",
              "summary": "{\n  \"name\": \"data\",\n  \"rows\": 18969,\n  \"fields\": [\n    {\n      \"column\": \"Zh\",\n      \"properties\": {\n        \"dtype\": \"number\",\n        \"std\": 6.496329897537167,\n        \"min\": 14.036426278106015,\n        \"max\": 57.40063944457843,\n        \"num_unique_values\": 18969,\n        \"samples\": [\n          34.24436721979091,\n          37.90010367264679,\n          51.30796507023212\n        ],\n        \"semantic_type\": \"\",\n        \"description\": \"\"\n      }\n    },\n    {\n      \"column\": \"Zdr\",\n      \"properties\": {\n        \"dtype\": \"number\",\n        \"std\": 0.36348852983404223,\n        \"min\": 0.2852069500441947,\n        \"max\": 3.8439405586669375,\n        \"num_unique_values\": 18969,\n        \"samples\": [\n          0.7580212266241331,\n          1.1256093091776356,\n          1.7772658063842728\n        ],\n        \"semantic_type\": \"\",\n        \"description\": \"\"\n      }\n    },\n    {\n      \"column\": \"Ldr\",\n      \"properties\": {\n        \"dtype\": \"number\",\n        \"std\": 3.277391059982918,\n        \"min\": -44.849249244785305,\n        \"max\": -25.3737182962276,\n        \"num_unique_values\": 18969,\n        \"samples\": [\n          -37.32063623044552,\n          -34.30097688119164,\n          -30.87246613834048\n        ],\n        \"semantic_type\": \"\",\n        \"description\": \"\"\n      }\n    },\n    {\n      \"column\": \"Kdp\",\n      \"properties\": {\n        \"dtype\": \"number\",\n        \"std\": 0.22101787656951516,\n        \"min\": 0.0006968277984266,\n        \"max\": 5.060709994445776,\n        \"num_unique_values\": 18969,\n        \"samples\": [\n          0.0579839068821332,\n          0.1102662266704542,\n          1.709518598049693\n        ],\n        \"semantic_type\": \"\",\n        \"description\": \"\"\n      }\n    },\n    {\n      \"column\": \"Ah\",\n      \"properties\": {\n        \"dtype\": \"number\",\n        \"std\": 0.003468579950066183,\n        \"min\": 4.407268170389226e-05,\n        \"max\": 0.0825113549101274,\n        \"num_unique_values\": 18969,\n        \"samples\": [\n          0.0016740699214549,\n          0.0022900535262601,\n          0.0258447421117563\n        ],\n        \"semantic_type\": \"\",\n        \"description\": \"\"\n      }\n    },\n    {\n      \"column\": \"Adp\",\n      \"properties\": {\n        \"dtype\": \"number\",\n        \"std\": 0.0008223670186438443,\n        \"min\": 1.5823278191562398e-06,\n        \"max\": 0.0275381829331829,\n        \"num_unique_values\": 18969,\n        \"samples\": [\n          0.0001403957404165,\n          0.0002871478414404,\n          0.0053173829917726\n        ],\n        \"semantic_type\": \"\",\n        \"description\": \"\"\n      }\n    },\n    {\n      \"column\": \"R\",\n      \"properties\": {\n        \"dtype\": \"number\",\n        \"std\": 8.569413204590912,\n        \"min\": 0.309398987591629,\n        \"max\": 195.5570618647122,\n        \"num_unique_values\": 18969,\n        \"samples\": [\n          8.149622965360885,\n          8.098476575902009,\n          49.45405859545728\n        ],\n        \"semantic_type\": \"\",\n        \"description\": \"\"\n      }\n    }\n  ]\n}"
            }
          },
          "metadata": {},
          "execution_count": 5
        }
      ],
      "source": [
        "# Display a few rows of dataset to verify\n",
        "data.head()"
      ]
    },
    {
      "cell_type": "code",
      "execution_count": 6,
      "metadata": {
        "id": "V4H4f8HREtPl"
      },
      "outputs": [],
      "source": [
        "# (1) Split the data into training and testing sets (70-30 split)\n",
        "train_df, test_df = train_test_split(data, test_size=0.3, random_state=42)"
      ]
    },
    {
      "cell_type": "code",
      "execution_count": 7,
      "metadata": {
        "id": "y9dFxFdQEtPm"
      },
      "outputs": [],
      "source": [
        "# Define the features and target variable\n",
        "features = ['Zh', 'Zdr', 'Ldr', 'Kdp', 'Ah', 'Adp']\n",
        "target = 'R'"
      ]
    },
    {
      "cell_type": "code",
      "execution_count": 8,
      "metadata": {
        "id": "JUXTPIfzEtPm"
      },
      "outputs": [],
      "source": [
        "# Split features and target datasets for training and testing\n",
        "X_train = train_df[features]\n",
        "y_train = train_df[target]\n",
        "X_test = test_df[features]\n",
        "y_test = test_df[target]\n"
      ]
    },
    {
      "cell_type": "code",
      "execution_count": 9,
      "metadata": {
        "id": "Gi9ugE9QEtPm"
      },
      "outputs": [],
      "source": [
        "# (2) Train and validate a multiple linear regression model\n",
        "\n",
        "# Setup regression model\n",
        "linear_model = LinearRegression()\n",
        "linear_model.fit(X_train, y_train)\n",
        "\n",
        "# Set predictions on training and testing sets\n",
        "linear_train_pred = linear_model.predict(X_train)\n",
        "linear_test_pred = linear_model.predict(X_test)\n",
        "\n",
        "# Calculating R^2 and RMSE for training and testing datasets for the linear model\n",
        "linear_train_r2 = r2_score(y_train, linear_train_pred)\n",
        "linear_test_r2 = r2_score(y_test, linear_test_pred)\n",
        "linear_train_rmse = np.sqrt(mean_squared_error(y_train, linear_train_pred))\n",
        "linear_test_rmse = np.sqrt(mean_squared_error(y_test, linear_test_pred))\n",
        "\n"
      ]
    },
    {
      "cell_type": "code",
      "source": [
        "# Calculate baseline values for training and testing sets\n",
        "baseline_train_pred = (train_df['Zh'] / 200) ** (1 / 1.6)\n",
        "baseline_test_pred = (test_df['Zh'] / 200) ** (1 / 1.6)\n",
        "\n",
        "# Calculate R^2 for baseline\n",
        "baseline_train_r2 = r2_score(y_train, baseline_train_pred)\n",
        "baseline_test_r2 = r2_score(y_test, baseline_test_pred)\n",
        "\n",
        "# Calculate RMSE for baseline\n",
        "baseline_train_rmse = np.sqrt(mean_squared_error(y_train, baseline_train_pred))\n",
        "baseline_test_rmse = np.sqrt(mean_squared_error(y_test, baseline_test_pred))\n"
      ],
      "metadata": {
        "id": "8f5qML8-qSul"
      },
      "execution_count": 10,
      "outputs": []
    },
    {
      "cell_type": "code",
      "source": [
        "# Display values for regression vs baseline\n",
        "print(\"Multiple Linear Regression vs Baseline\")\n",
        "print(\"Training set:\")\n",
        "print(f\"Linear Regression R^2: {linear_train_r2}, Baseline R^2: {baseline_train_r2}\")\n",
        "print(f\"Linear Regression RMSE: {linear_train_rmse}, Baseline RMSE: {baseline_train_rmse}\")\n",
        "print(\"\\nTesting set:\")\n",
        "print(f\"Linear Regression R^2: {linear_test_r2}, Baseline R^2: {baseline_test_r2}\")\n",
        "print(f\"Linear Regression RMSE: {linear_test_rmse}, Baseline RMSE: {baseline_test_rmse}\")\n"
      ],
      "metadata": {
        "colab": {
          "base_uri": "https://localhost:8080/"
        },
        "id": "74Aa14zc-fCR",
        "outputId": "efd866c8-29f6-4fe4-a2e9-af5eb5b047ef"
      },
      "execution_count": 11,
      "outputs": [
        {
          "output_type": "stream",
          "name": "stdout",
          "text": [
            "Multiple Linear Regression vs Baseline\n",
            "Training set:\n",
            "Linear Regression R^2: 0.9879085512445995, Baseline R^2: -0.7843154346178256\n",
            "Linear Regression RMSE: 0.9229401590287888, Baseline RMSE: 11.21166698776975\n",
            "\n",
            "Testing set:\n",
            "Linear Regression R^2: 0.9890992951689396, Baseline R^2: -0.7389185953481798\n",
            "Linear Regression RMSE: 0.9358124742086974, Baseline RMSE: 11.819556086271271\n"
          ]
        }
      ]
    },
    {
      "cell_type": "code",
      "execution_count": 12,
      "metadata": {
        "id": "0L8NBHwztI6f"
      },
      "outputs": [],
      "source": [
        "# (3) Split the data into training and testing sets (70-30 split) & search over polynomial orders,\n",
        "# using a grid search over orders 0-21, and use cross-validation of 7 folds\n",
        "\n",
        "# Load the dataset\n",
        "file_path = '/content/radar_parameters.csv'\n",
        "data = pd.read_csv(file_path)"
      ]
    },
    {
      "cell_type": "code",
      "execution_count": 13,
      "metadata": {
        "id": "0Dpi4r3ztI6f"
      },
      "outputs": [],
      "source": [
        "# Prepare the dataset; rename/remove columns\n",
        "data = data.rename(columns={\n",
        "    'Zh (dBZ)': 'Zh', 'Zdr (dB)': 'Zdr', 'Ldr (dB)': 'Ldr',\n",
        "    'Kdp (deg km-1)': 'Kdp', 'Ah (dBZ/km)': 'Ah', 'Adr (dB/km)': 'Adp',\n",
        "    'R (mm/hr)': 'R'\n",
        "}).drop(columns=['Unnamed: 0'], errors='ignore')\n"
      ]
    },
    {
      "cell_type": "code",
      "execution_count": 14,
      "metadata": {
        "id": "GLgqtxOptI6g"
      },
      "outputs": [],
      "source": [
        "# Split the data into training and testing sets (70-30 split)\n",
        "train_df, test_df = train_test_split(data, test_size=0.3, random_state=42)"
      ]
    },
    {
      "cell_type": "code",
      "execution_count": 15,
      "metadata": {
        "id": "oKia0KMVtI6g"
      },
      "outputs": [],
      "source": [
        "# Define the features and target variable\n",
        "features = ['Zh', 'Zdr', 'Ldr', 'Kdp', 'Ah', 'Adp']\n",
        "target = 'R'"
      ]
    },
    {
      "cell_type": "code",
      "execution_count": 16,
      "metadata": {
        "id": "tbxBes-ktI6g"
      },
      "outputs": [],
      "source": [
        "# Split features and target datasets for training and testing\n",
        "X_train = train_df[features]\n",
        "y_train = train_df[target]\n",
        "X_test = test_df[features]\n",
        "y_test = test_df[target]\n"
      ]
    },
    {
      "cell_type": "code",
      "execution_count": 17,
      "metadata": {
        "colab": {
          "base_uri": "https://localhost:8080/"
        },
        "id": "Xag6KAoPEtPq",
        "outputId": "280b90aa-2549-4d15-c7aa-3eecf4fbdd14"
      },
      "outputs": [
        {
          "output_type": "stream",
          "name": "stdout",
          "text": [
            "Fitting 7 folds for each of 9 candidates, totalling 63 fits\n"
          ]
        }
      ],
      "source": [
        "# Search over polynomial orders using a grid search over orders 0-10, and use\n",
        "# cross-validation of 7 folds\n",
        "\n",
        "# Set 7-fold cross-validation\n",
        "cv_folds = 7\n",
        "\n",
        "# Set the polynomial orders\n",
        "poly_orders = range(1, 10)\n",
        "\n",
        "# Setup pipeline with PolynomialFeatures and LinearRegression\n",
        "pipeline = make_pipeline(PolynomialFeatures(), LinearRegression())\n",
        "\n",
        "# Define parameter grid to search over\n",
        "param_grid = {\n",
        "    'polynomialfeatures__degree': poly_orders\n",
        "}\n",
        "\n",
        "# Setup grid search with 7-fold cross-validation\n",
        "poly_grid_search = GridSearchCV(pipeline, param_grid, cv=cv_folds, scoring='r2', verbose=1)\n",
        "\n",
        "# Perform grid search\n",
        "poly_grid_search.fit(X_train, y_train)\n",
        "\n",
        "# Extract best model info\n",
        "best_poly_model = poly_grid_search.best_estimator_\n",
        "best_poly_params = poly_grid_search.best_params_\n",
        "best_poly_score = poly_grid_search.best_score_\n",
        "\n",
        "# Predictions/performance on test set for best polynomial model\n",
        "poly_test_pred = best_poly_model.predict(X_test)\n",
        "poly_test_r2 = r2_score(y_test, poly_test_pred)"
      ]
    },
    {
      "cell_type": "code",
      "source": [
        "# Display values for regression vs baseline\n",
        "print(\"Best Polynomial Order vs Baseline\")\n",
        "print(\"Training set:\")\n",
        "print(f\"Polynomial R^2: {best_poly_score}, Baseline R^2: {baseline_train_r2}\")\n",
        "print(\"\\nTesting set:\")\n",
        "print(f\"Polynomial R^2: {poly_test_r2}, Baseline R^2: {baseline_test_r2}\")\n"
      ],
      "metadata": {
        "colab": {
          "base_uri": "https://localhost:8080/"
        },
        "id": "iz5Z1a84GFWN",
        "outputId": "316f110f-b9c0-4485-851a-0dc673560fc2"
      },
      "execution_count": 18,
      "outputs": [
        {
          "output_type": "stream",
          "name": "stdout",
          "text": [
            "Best Polynomial Order vs Baseline\n",
            "Training set:\n",
            "Polynomial R^2: 0.9969985736506703, Baseline R^2: -0.7843154346178256\n",
            "\n",
            "Testing set:\n",
            "Polynomial R^2: 0.9995805761885587, Baseline R^2: -0.7389185953481798\n"
          ]
        }
      ]
    },
    {
      "cell_type": "code",
      "source": [],
      "metadata": {
        "id": "ahKyMSgNuhCy"
      },
      "execution_count": null,
      "outputs": []
    },
    {
      "cell_type": "code",
      "execution_count": 3,
      "metadata": {
        "id": "MPSqRGX7uhn4"
      },
      "outputs": [],
      "source": [
        "# (4) Split the data into training and testing sets (70-30 split) & use a Random Forest\n",
        "# to perform a grid_search\n",
        "\n",
        "# Load the dataset\n",
        "file_path = '/content/radar_parameters.csv'\n",
        "data = pd.read_csv(file_path)"
      ]
    },
    {
      "cell_type": "code",
      "execution_count": 4,
      "metadata": {
        "id": "yE2D4lnVuhn4"
      },
      "outputs": [],
      "source": [
        "# Prepare the dataset; rename/remove columns\n",
        "data = data.rename(columns={\n",
        "    'Zh (dBZ)': 'Zh', 'Zdr (dB)': 'Zdr', 'Ldr (dB)': 'Ldr',\n",
        "    'Kdp (deg km-1)': 'Kdp', 'Ah (dBZ/km)': 'Ah', 'Adr (dB/km)': 'Adp',\n",
        "    'R (mm/hr)': 'R'\n",
        "}).drop(columns=['Unnamed: 0'], errors='ignore')\n"
      ]
    },
    {
      "cell_type": "code",
      "execution_count": 5,
      "metadata": {
        "id": "bcDLFgbKuhn4"
      },
      "outputs": [],
      "source": [
        "# Split the data into training and testing sets (70-30 split)\n",
        "train_df, test_df = train_test_split(data, test_size=0.3, random_state=42)"
      ]
    },
    {
      "cell_type": "code",
      "execution_count": 6,
      "metadata": {
        "id": "IqJmpikruhn5"
      },
      "outputs": [],
      "source": [
        "# Define the features and target variable\n",
        "features = ['Zh', 'Zdr', 'Ldr', 'Kdp', 'Ah', 'Adp']\n",
        "target = 'R'"
      ]
    },
    {
      "cell_type": "code",
      "execution_count": 7,
      "metadata": {
        "id": "WPHK-Kvjuhn5"
      },
      "outputs": [],
      "source": [
        "# Split features and target datasets for training and testing\n",
        "X_train = train_df[features]\n",
        "y_train = train_df[target]\n",
        "X_test = test_df[features]\n",
        "y_test = test_df[target]\n"
      ]
    },
    {
      "cell_type": "code",
      "execution_count": 11,
      "metadata": {
        "colab": {
          "base_uri": "https://localhost:8080/"
        },
        "id": "u8loXHYJEtPs",
        "outputId": "69ebeff8-1f5e-430d-a5f1-2957fbd77538"
      },
      "outputs": [
        {
          "output_type": "stream",
          "name": "stdout",
          "text": [
            "Fitting 5 folds for each of 64 candidates, totalling 320 fits\n"
          ]
        },
        {
          "output_type": "stream",
          "name": "stderr",
          "text": [
            "/usr/local/lib/python3.10/dist-packages/sklearn/ensemble/_forest.py:413: FutureWarning: `max_features='auto'` has been deprecated in 1.1 and will be removed in 1.3. To keep the past behaviour, explicitly set `max_features=1.0` or remove this parameter as it is also the default value for RandomForestRegressors and ExtraTreesRegressors.\n",
            "  warn(\n"
          ]
        },
        {
          "output_type": "stream",
          "name": "stdout",
          "text": [
            "Best parameters: {'bootstrap': True, 'max_depth': 50, 'max_features': 'auto', 'min_samples_leaf': 1, 'min_samples_split': 2, 'n_estimators': 1000}\n",
            "Best R^2 on CV: 0.9795924819809978\n",
            "R^2 on test set: 0.9880534083870811\n",
            "RMSE on test set: 0.9796784362798733\n"
          ]
        }
      ],
      "source": [
        "# Define the parameter grid\n",
        "\n",
        "param_grid_rf = {\n",
        "    'bootstrap': [True, False],\n",
        "    'max_depth': [10, 50],\n",
        "    'max_features': ['auto', 'sqrt'],\n",
        "    'min_samples_leaf': [1, 4],\n",
        "    'min_samples_split': [2, 10],\n",
        "    'n_estimators': [200, 1000]\n",
        "}\n",
        "\n",
        "# Setup the model and grid search\n",
        "rf_model = RandomForestRegressor(random_state=42)\n",
        "grid_search = GridSearchCV(rf_model, param_grid_rf, cv=5, scoring='r2', n_jobs=-1, verbose=2)\n",
        "\n",
        "# Run the grid search\n",
        "grid_search.fit(X_train, y_train)\n",
        "\n",
        "# Display best parameters and scores\n",
        "print(\"Best parameters:\", grid_search.best_params_)\n",
        "print(\"Best R^2 on CV:\", grid_search.best_score_)\n",
        "\n",
        "# Evaluate the test set\n",
        "best_model = grid_search.best_estimator_\n",
        "predictions = best_model.predict(X_test)\n",
        "print(\"R^2 on test set:\", r2_score(y_test, predictions))\n",
        "rmse = mean_squared_error(y_test, predictions, squared=False)\n",
        "print(\"RMSE on test set:\", rmse)\n"
      ]
    },
    {
      "cell_type": "code",
      "execution_count": null,
      "metadata": {
        "id": "c43vYghwEtPs"
      },
      "outputs": [],
      "source": []
    },
    {
      "cell_type": "code",
      "execution_count": null,
      "metadata": {
        "id": "u7qEnOXNEtPs"
      },
      "outputs": [],
      "source": []
    },
    {
      "cell_type": "code",
      "execution_count": null,
      "metadata": {
        "id": "hQft_mDBEtPs"
      },
      "outputs": [],
      "source": []
    },
    {
      "cell_type": "code",
      "execution_count": null,
      "metadata": {
        "id": "uW4INkDVEtPt"
      },
      "outputs": [],
      "source": []
    },
    {
      "cell_type": "code",
      "execution_count": null,
      "metadata": {
        "id": "sO7_P_DzEtPt"
      },
      "outputs": [],
      "source": []
    },
    {
      "cell_type": "code",
      "execution_count": null,
      "metadata": {
        "id": "GadOlV8qEtPt"
      },
      "outputs": [],
      "source": []
    },
    {
      "cell_type": "code",
      "execution_count": null,
      "metadata": {
        "id": "1mxVYNGuEtPt"
      },
      "outputs": [],
      "source": []
    }
  ],
  "metadata": {
    "colab": {
      "provenance": []
    },
    "kernelspec": {
      "display_name": "Python 3",
      "name": "python3"
    },
    "language_info": {
      "codemirror_mode": {
        "name": "ipython",
        "version": 3
      },
      "file_extension": ".py",
      "mimetype": "text/x-python",
      "name": "python",
      "nbconvert_exporter": "python",
      "pygments_lexer": "ipython3",
      "version": "3.11.5"
    }
  },
  "nbformat": 4,
  "nbformat_minor": 0
}